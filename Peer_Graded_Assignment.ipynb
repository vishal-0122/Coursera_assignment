{
 "cells": [
  {
   "cell_type": "markdown",
   "id": "769c22ff-0b4c-482d-a086-5281ff7a85fe",
   "metadata": {},
   "source": [
    "# Data Science Tools and Ecosystem\n"
   ]
  },
  {
   "cell_type": "markdown",
   "id": "8855672f-e206-41fe-a880-db0737bed42b",
   "metadata": {},
   "source": [
    "## Introduction\n",
    "In this notebook, we will explore various aspects of the Data Science ecosystem, including programming languages, libraries, tools, and examples of basic arithmetic operations.\n"
   ]
  },
  {
   "cell_type": "markdown",
   "id": "425cee89-9917-42a4-87cc-74c67d4507f6",
   "metadata": {},
   "source": [
    "## Data Science Languages  \n",
    "Some of the popular languages used in Data Science are:  \n",
    "- Python  \n",
    "- R  \n",
    "- SQL  \n",
    "- Julia  \n",
    "- Scala  \n"
   ]
  },
  {
   "cell_type": "markdown",
   "id": "a5e9eb7e-2cca-4531-b173-c61eb58847df",
   "metadata": {},
   "source": [
    "## Data Science Libraries  \n",
    "Common libraries used in Data Science include:  \n",
    "- NumPy  \n",
    "- Pandas  \n",
    "- Matplotlib  \n",
    "- Scikit-learn  \n",
    "- TensorFlow  \n"
   ]
  },
  {
   "cell_type": "markdown",
   "id": "e19ffdf0-ca97-4eb6-be39-df39843cd925",
   "metadata": {},
   "source": [
    "## Data Science Tools  \n",
    "\n",
    "| Tool           | Description                           |  \n",
    "|---------------|-------------------------------------|  \n",
    "| Jupyter Notebook | Interactive coding environment   |  \n",
    "| Apache Spark   | Big data processing framework     |  \n",
    "| Tableau       | Data visualization tool            |  \n",
    "| RStudio       | IDE for R programming              |  \n",
    "| TensorFlow    | Machine learning framework         |  \n"
   ]
  },
  {
   "cell_type": "markdown",
   "id": "dbc2e69f-afbe-4857-bb5b-a92ee769770b",
   "metadata": {},
   "source": [
    "## Arithmetic Expression Examples  \n",
    "Below are some examples of arithmetic expressions in Python.\n"
   ]
  },
  {
   "cell_type": "code",
   "execution_count": 2,
   "id": "0f0c0b4c-c264-45b4-b8ac-a54acf002c51",
   "metadata": {},
   "outputs": [
    {
     "data": {
      "text/plain": [
       "23"
      ]
     },
     "execution_count": 2,
     "metadata": {},
     "output_type": "execute_result"
    }
   ],
   "source": [
    "# Multiply and add numbers\n",
    "result = (5 * 4) + 3\n",
    "result\n"
   ]
  },
  {
   "cell_type": "code",
   "execution_count": 3,
   "id": "502b3f9d-572b-4b58-95c8-0bc0803bae57",
   "metadata": {},
   "outputs": [
    {
     "data": {
      "text/plain": [
       "2.0"
      ]
     },
     "execution_count": 3,
     "metadata": {},
     "output_type": "execute_result"
    }
   ],
   "source": [
    "# Convert minutes to hours\n",
    "minutes = 120\n",
    "hours = minutes / 60\n",
    "hours\n"
   ]
  },
  {
   "cell_type": "markdown",
   "id": "d439905c-bf01-4baf-b501-7133da68cd2a",
   "metadata": {},
   "source": [
    "## Objectives  \n",
    "- Learn about Data Science languages  \n",
    "- Explore Data Science libraries  \n",
    "- Identify common Data Science tools  \n",
    "- Perform basic arithmetic operations  \n",
    "- Convert time units using Python  \n"
   ]
  },
  {
   "cell_type": "markdown",
   "id": "4ffb0e7b-7696-4a65-98bb-c1b64d531091",
   "metadata": {},
   "source": [
    "## Author  \n",
    "Vishal Dangiwala"
   ]
  },
  {
   "cell_type": "code",
   "execution_count": null,
   "id": "a792d5d9-8ef6-4d03-b09f-13d922f26f60",
   "metadata": {},
   "outputs": [],
   "source": []
  }
 ],
 "metadata": {
  "kernelspec": {
   "display_name": "Python 3 (ipykernel)",
   "language": "python",
   "name": "python3"
  },
  "language_info": {
   "codemirror_mode": {
    "name": "ipython",
    "version": 3
   },
   "file_extension": ".py",
   "mimetype": "text/x-python",
   "name": "python",
   "nbconvert_exporter": "python",
   "pygments_lexer": "ipython3",
   "version": "3.12.7"
  }
 },
 "nbformat": 4,
 "nbformat_minor": 5
}
